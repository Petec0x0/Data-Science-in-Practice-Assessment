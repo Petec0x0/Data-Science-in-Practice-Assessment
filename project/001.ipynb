{
 "cells": [
  {
   "cell_type": "markdown",
   "metadata": {},
   "source": [
    "<h2 id=\"understanding_data\">Understanding the Data</h2>\n",
    "\n",
    "### `ConcreteCompressiveStrength.csv`:\n",
    "<pre>\n",
    "    <b>\n",
    "    Task:\n",
    "        <code>Predict the compressive strenght of concrete based on its composition and its age</code>\n",
    "        This will help in making quick decision for accidental poor concreting at site and reduce delay in the \n",
    "        execution time of large civil construction projects. \n",
    "\n",
    "    Dataset Description:\n",
    "    The dataset has the following input features\n",
    "        Cement: kg per m^3\n",
    "        Blast_Furnace_Slag: kg per m^3\n",
    "        Fly_Ash: kg per m^3\n",
    "        Water: kg per m^3\n",
    "        Superplasticizer: kg per m^3\n",
    "        Coarse_Aggregate: kg per m^3\n",
    "        Fine_Aggregate: kg per m^3\n",
    "        Age: in days\n",
    "\n",
    "    The output feature is\n",
    "        Concrete_compressive_strength: MPa\n",
    "     </b>   \n",
    "<pre>"
   ]
  },
  {
   "cell_type": "markdown",
   "metadata": {
    "button": false,
    "new_sheet": false,
    "run_control": {
     "read_only": false
    }
   },
   "source": [
    "### Importing Needed packages"
   ]
  },
  {
   "cell_type": "code",
   "execution_count": 63,
   "metadata": {},
   "outputs": [],
   "source": [
    "%reset -f"
   ]
  },
  {
   "cell_type": "code",
   "execution_count": 64,
   "metadata": {},
   "outputs": [],
   "source": [
    "import pandas as pd\n",
    "import numpy as np\n",
    "import matplotlib.pyplot as plt\n",
    "plt.style.use('seaborn')\n",
    "\n",
    "from scipy.stats import spearmanr\n",
    "from sklearn.preprocessing import StandardScaler\n",
    "from sklearn import linear_model\n",
    "from sklearn.ensemble import RandomForestRegressor\n",
    "from sklearn.metrics import r2_score\n",
    "from sklearn.model_selection import train_test_split"
   ]
  },
  {
   "cell_type": "markdown",
   "metadata": {
    "button": false,
    "new_sheet": false,
    "run_control": {
     "read_only": false
    }
   },
   "source": [
    "<h2 id=\"reading_data\">Reading the data in</h2>"
   ]
  },
  {
   "cell_type": "code",
   "execution_count": 65,
   "metadata": {
    "button": false,
    "new_sheet": false,
    "run_control": {
     "read_only": false
    }
   },
   "outputs": [
    {
     "data": {
      "text/html": [
       "<div>\n",
       "<style scoped>\n",
       "    .dataframe tbody tr th:only-of-type {\n",
       "        vertical-align: middle;\n",
       "    }\n",
       "\n",
       "    .dataframe tbody tr th {\n",
       "        vertical-align: top;\n",
       "    }\n",
       "\n",
       "    .dataframe thead th {\n",
       "        text-align: right;\n",
       "    }\n",
       "</style>\n",
       "<table border=\"1\" class=\"dataframe\">\n",
       "  <thead>\n",
       "    <tr style=\"text-align: right;\">\n",
       "      <th></th>\n",
       "      <th>Cement</th>\n",
       "      <th>Blast_Furnace_Slag</th>\n",
       "      <th>Fly_Ash</th>\n",
       "      <th>Water</th>\n",
       "      <th>Superplasticizer</th>\n",
       "      <th>Coarse_Aggregate</th>\n",
       "      <th>Fine_Aggregate</th>\n",
       "      <th>Age</th>\n",
       "      <th>Concrete_compressive_strength</th>\n",
       "    </tr>\n",
       "  </thead>\n",
       "  <tbody>\n",
       "    <tr>\n",
       "      <th>0</th>\n",
       "      <td>540.0</td>\n",
       "      <td>0.0</td>\n",
       "      <td>0.0</td>\n",
       "      <td>162.0</td>\n",
       "      <td>2.5</td>\n",
       "      <td>1040.0</td>\n",
       "      <td>676.0</td>\n",
       "      <td>28</td>\n",
       "      <td>79.99</td>\n",
       "    </tr>\n",
       "    <tr>\n",
       "      <th>1</th>\n",
       "      <td>540.0</td>\n",
       "      <td>0.0</td>\n",
       "      <td>0.0</td>\n",
       "      <td>162.0</td>\n",
       "      <td>2.5</td>\n",
       "      <td>1055.0</td>\n",
       "      <td>676.0</td>\n",
       "      <td>28</td>\n",
       "      <td>61.89</td>\n",
       "    </tr>\n",
       "    <tr>\n",
       "      <th>2</th>\n",
       "      <td>332.5</td>\n",
       "      <td>142.5</td>\n",
       "      <td>0.0</td>\n",
       "      <td>228.0</td>\n",
       "      <td>0.0</td>\n",
       "      <td>932.0</td>\n",
       "      <td>594.0</td>\n",
       "      <td>270</td>\n",
       "      <td>40.27</td>\n",
       "    </tr>\n",
       "    <tr>\n",
       "      <th>3</th>\n",
       "      <td>332.5</td>\n",
       "      <td>142.5</td>\n",
       "      <td>0.0</td>\n",
       "      <td>228.0</td>\n",
       "      <td>0.0</td>\n",
       "      <td>932.0</td>\n",
       "      <td>594.0</td>\n",
       "      <td>365</td>\n",
       "      <td>41.05</td>\n",
       "    </tr>\n",
       "    <tr>\n",
       "      <th>4</th>\n",
       "      <td>198.6</td>\n",
       "      <td>132.4</td>\n",
       "      <td>0.0</td>\n",
       "      <td>192.0</td>\n",
       "      <td>0.0</td>\n",
       "      <td>978.4</td>\n",
       "      <td>825.5</td>\n",
       "      <td>360</td>\n",
       "      <td>44.30</td>\n",
       "    </tr>\n",
       "  </tbody>\n",
       "</table>\n",
       "</div>"
      ],
      "text/plain": [
       "   Cement  Blast_Furnace_Slag  Fly_Ash  Water  Superplasticizer  \\\n",
       "0   540.0                 0.0      0.0  162.0               2.5   \n",
       "1   540.0                 0.0      0.0  162.0               2.5   \n",
       "2   332.5               142.5      0.0  228.0               0.0   \n",
       "3   332.5               142.5      0.0  228.0               0.0   \n",
       "4   198.6               132.4      0.0  192.0               0.0   \n",
       "\n",
       "   Coarse_Aggregate  Fine_Aggregate  Age  Concrete_compressive_strength  \n",
       "0            1040.0           676.0   28                          79.99  \n",
       "1            1055.0           676.0   28                          61.89  \n",
       "2             932.0           594.0  270                          40.27  \n",
       "3             932.0           594.0  365                          41.05  \n",
       "4             978.4           825.5  360                          44.30  "
      ]
     },
     "execution_count": 65,
     "metadata": {},
     "output_type": "execute_result"
    }
   ],
   "source": [
    "data = pd.read_csv(\"ConcreteCompressiveStrength.csv\")\n",
    "\n",
    "# take a look at the dataset\n",
    "data.head()"
   ]
  },
  {
   "cell_type": "code",
   "execution_count": 66,
   "metadata": {},
   "outputs": [
    {
     "data": {
      "text/plain": [
       "Cement                           389.9\n",
       "Blast_Furnace_Slag               189.0\n",
       "Fly_Ash                            0.0\n",
       "Water                            145.9\n",
       "Superplasticizer                  22.0\n",
       "Coarse_Aggregate                 944.7\n",
       "Fine_Aggregate                   755.8\n",
       "Age                               91.0\n",
       "Concrete_compressive_strength     82.6\n",
       "Name: 181, dtype: float64"
      ]
     },
     "execution_count": 66,
     "metadata": {},
     "output_type": "execute_result"
    }
   ],
   "source": [
    "data.iloc[data.Concrete_compressive_strength.argmax()]"
   ]
  },
  {
   "cell_type": "code",
   "execution_count": 67,
   "metadata": {},
   "outputs": [
    {
     "name": "stdout",
     "output_type": "stream",
     "text": [
      "<class 'pandas.core.frame.DataFrame'>\n",
      "RangeIndex: 1030 entries, 0 to 1029\n",
      "Data columns (total 9 columns):\n",
      " #   Column                         Non-Null Count  Dtype  \n",
      "---  ------                         --------------  -----  \n",
      " 0   Cement                         1030 non-null   float64\n",
      " 1   Blast_Furnace_Slag             1030 non-null   float64\n",
      " 2   Fly_Ash                        1030 non-null   float64\n",
      " 3   Water                          1030 non-null   float64\n",
      " 4   Superplasticizer               1030 non-null   float64\n",
      " 5   Coarse_Aggregate               1030 non-null   float64\n",
      " 6   Fine_Aggregate                 1030 non-null   float64\n",
      " 7   Age                            1030 non-null   int64  \n",
      " 8   Concrete_compressive_strength  1030 non-null   float64\n",
      "dtypes: float64(8), int64(1)\n",
      "memory usage: 72.5 KB\n"
     ]
    }
   ],
   "source": [
    "data.info()"
   ]
  },
  {
   "cell_type": "code",
   "execution_count": 26,
   "metadata": {
    "collapsed": true,
    "jupyter": {
     "outputs_hidden": true
    }
   },
   "outputs": [
    {
     "data": {
      "text/html": [
       "<div>\n",
       "<style scoped>\n",
       "    .dataframe tbody tr th:only-of-type {\n",
       "        vertical-align: middle;\n",
       "    }\n",
       "\n",
       "    .dataframe tbody tr th {\n",
       "        vertical-align: top;\n",
       "    }\n",
       "\n",
       "    .dataframe thead th {\n",
       "        text-align: right;\n",
       "    }\n",
       "</style>\n",
       "<table border=\"1\" class=\"dataframe\">\n",
       "  <thead>\n",
       "    <tr style=\"text-align: right;\">\n",
       "      <th></th>\n",
       "      <th>Cement</th>\n",
       "      <th>Blast_Furnace_Slag</th>\n",
       "      <th>Fly_Ash</th>\n",
       "      <th>Water</th>\n",
       "      <th>Superplasticizer</th>\n",
       "      <th>Coarse_Aggregate</th>\n",
       "      <th>Fine_Aggregate</th>\n",
       "      <th>Age</th>\n",
       "      <th>Concrete_compressive_strength</th>\n",
       "    </tr>\n",
       "  </thead>\n",
       "  <tbody>\n",
       "    <tr>\n",
       "      <th>count</th>\n",
       "      <td>1030.000000</td>\n",
       "      <td>1030.000000</td>\n",
       "      <td>1030.000000</td>\n",
       "      <td>1030.000000</td>\n",
       "      <td>1030.000000</td>\n",
       "      <td>1030.000000</td>\n",
       "      <td>1030.000000</td>\n",
       "      <td>1030.000000</td>\n",
       "      <td>1030.000000</td>\n",
       "    </tr>\n",
       "    <tr>\n",
       "      <th>mean</th>\n",
       "      <td>281.167864</td>\n",
       "      <td>73.895825</td>\n",
       "      <td>54.188350</td>\n",
       "      <td>181.567282</td>\n",
       "      <td>6.204660</td>\n",
       "      <td>972.918932</td>\n",
       "      <td>773.580485</td>\n",
       "      <td>45.662136</td>\n",
       "      <td>35.817961</td>\n",
       "    </tr>\n",
       "    <tr>\n",
       "      <th>std</th>\n",
       "      <td>104.506364</td>\n",
       "      <td>86.279342</td>\n",
       "      <td>63.997004</td>\n",
       "      <td>21.354219</td>\n",
       "      <td>5.973841</td>\n",
       "      <td>77.753954</td>\n",
       "      <td>80.175980</td>\n",
       "      <td>63.169912</td>\n",
       "      <td>16.705742</td>\n",
       "    </tr>\n",
       "    <tr>\n",
       "      <th>min</th>\n",
       "      <td>102.000000</td>\n",
       "      <td>0.000000</td>\n",
       "      <td>0.000000</td>\n",
       "      <td>121.800000</td>\n",
       "      <td>0.000000</td>\n",
       "      <td>801.000000</td>\n",
       "      <td>594.000000</td>\n",
       "      <td>1.000000</td>\n",
       "      <td>2.330000</td>\n",
       "    </tr>\n",
       "    <tr>\n",
       "      <th>25%</th>\n",
       "      <td>192.375000</td>\n",
       "      <td>0.000000</td>\n",
       "      <td>0.000000</td>\n",
       "      <td>164.900000</td>\n",
       "      <td>0.000000</td>\n",
       "      <td>932.000000</td>\n",
       "      <td>730.950000</td>\n",
       "      <td>7.000000</td>\n",
       "      <td>23.710000</td>\n",
       "    </tr>\n",
       "    <tr>\n",
       "      <th>50%</th>\n",
       "      <td>272.900000</td>\n",
       "      <td>22.000000</td>\n",
       "      <td>0.000000</td>\n",
       "      <td>185.000000</td>\n",
       "      <td>6.400000</td>\n",
       "      <td>968.000000</td>\n",
       "      <td>779.500000</td>\n",
       "      <td>28.000000</td>\n",
       "      <td>34.445000</td>\n",
       "    </tr>\n",
       "    <tr>\n",
       "      <th>75%</th>\n",
       "      <td>350.000000</td>\n",
       "      <td>142.950000</td>\n",
       "      <td>118.300000</td>\n",
       "      <td>192.000000</td>\n",
       "      <td>10.200000</td>\n",
       "      <td>1029.400000</td>\n",
       "      <td>824.000000</td>\n",
       "      <td>56.000000</td>\n",
       "      <td>46.135000</td>\n",
       "    </tr>\n",
       "    <tr>\n",
       "      <th>max</th>\n",
       "      <td>540.000000</td>\n",
       "      <td>359.400000</td>\n",
       "      <td>200.100000</td>\n",
       "      <td>247.000000</td>\n",
       "      <td>32.200000</td>\n",
       "      <td>1145.000000</td>\n",
       "      <td>992.600000</td>\n",
       "      <td>365.000000</td>\n",
       "      <td>82.600000</td>\n",
       "    </tr>\n",
       "  </tbody>\n",
       "</table>\n",
       "</div>"
      ],
      "text/plain": [
       "            Cement  Blast_Furnace_Slag      Fly_Ash        Water  \\\n",
       "count  1030.000000         1030.000000  1030.000000  1030.000000   \n",
       "mean    281.167864           73.895825    54.188350   181.567282   \n",
       "std     104.506364           86.279342    63.997004    21.354219   \n",
       "min     102.000000            0.000000     0.000000   121.800000   \n",
       "25%     192.375000            0.000000     0.000000   164.900000   \n",
       "50%     272.900000           22.000000     0.000000   185.000000   \n",
       "75%     350.000000          142.950000   118.300000   192.000000   \n",
       "max     540.000000          359.400000   200.100000   247.000000   \n",
       "\n",
       "       Superplasticizer  Coarse_Aggregate  Fine_Aggregate          Age  \\\n",
       "count       1030.000000       1030.000000     1030.000000  1030.000000   \n",
       "mean           6.204660        972.918932      773.580485    45.662136   \n",
       "std            5.973841         77.753954       80.175980    63.169912   \n",
       "min            0.000000        801.000000      594.000000     1.000000   \n",
       "25%            0.000000        932.000000      730.950000     7.000000   \n",
       "50%            6.400000        968.000000      779.500000    28.000000   \n",
       "75%           10.200000       1029.400000      824.000000    56.000000   \n",
       "max           32.200000       1145.000000      992.600000   365.000000   \n",
       "\n",
       "       Concrete_compressive_strength  \n",
       "count                    1030.000000  \n",
       "mean                       35.817961  \n",
       "std                        16.705742  \n",
       "min                         2.330000  \n",
       "25%                        23.710000  \n",
       "50%                        34.445000  \n",
       "75%                        46.135000  \n",
       "max                        82.600000  "
      ]
     },
     "execution_count": 26,
     "metadata": {},
     "output_type": "execute_result"
    }
   ],
   "source": [
    "data.describe()"
   ]
  },
  {
   "cell_type": "markdown",
   "metadata": {},
   "source": [
    "__Checking if there is any linear relaionship b/w `Concrete_compressive_strength` and other variables using Spearmans correlation coeficient__"
   ]
  },
  {
   "cell_type": "code",
   "execution_count": 24,
   "metadata": {},
   "outputs": [
    {
     "name": "stdout",
     "output_type": "stream",
     "text": [
      "Spearmans correlation: for Cement = 0.4776143065003231\n",
      "Spearmans correlation: for Blast_Furnace_Slag = 0.16410546676296717\n",
      "Spearmans correlation: for Fly_Ash = -0.07782971890884373\n",
      "Spearmans correlation: for Water = -0.3084139699115922\n",
      "Spearmans correlation: for Superplasticizer = 0.34778637298702414\n",
      "Spearmans correlation: for Coarse_Aggregate = -0.18354244378833753\n",
      "Spearmans correlation: for Fine_Aggregate = -0.17996203988452888\n",
      "Spearmans correlation: for Age = 0.5960276340337732\n"
     ]
    }
   ],
   "source": [
    "def check_corr(column):\n",
    "    corr, _ = spearmanr(data[[column]], data[['Concrete_compressive_strength']])\n",
    "    print(f'Spearmans correlation: for {column} = {corr}')\n",
    "    \n",
    "corr = pd.Series(data.columns[:-1]).apply(check_corr)    "
   ]
  },
  {
   "cell_type": "markdown",
   "metadata": {},
   "source": [
    "__Data Spliting__"
   ]
  },
  {
   "cell_type": "code",
   "execution_count": 68,
   "metadata": {},
   "outputs": [],
   "source": [
    "features = data.drop(['Concrete_compressive_strength'], axis=1)\n",
    "labels = data[['Concrete_compressive_strength']]\n",
    "train_x, test_x, train_y, test_y = train_test_split(features,labels, test_size=0.2, random_state=3)"
   ]
  },
  {
   "cell_type": "code",
   "execution_count": 69,
   "metadata": {},
   "outputs": [
    {
     "data": {
      "text/plain": [
       "((824, 8), (206, 8), (824, 1), (206, 1))"
      ]
     },
     "execution_count": 69,
     "metadata": {},
     "output_type": "execute_result"
    }
   ],
   "source": [
    "train_x.shape, test_x.shape, train_y.shape, test_y.shape"
   ]
  },
  {
   "cell_type": "code",
   "execution_count": 70,
   "metadata": {},
   "outputs": [],
   "source": [
    "stdScaler = StandardScaler()\n",
    "stdScaler.fit(train_x)\n",
    "\n",
    "train_x = stdScaler.transform(train_x)\n",
    "test_x = stdScaler.transform(test_x)"
   ]
  },
  {
   "cell_type": "code",
   "execution_count": null,
   "metadata": {},
   "outputs": [],
   "source": []
  },
  {
   "cell_type": "markdown",
   "metadata": {},
   "source": [
    "#### __Model (Polynomial)__"
   ]
  },
  {
   "cell_type": "code",
   "execution_count": 78,
   "metadata": {},
   "outputs": [
    {
     "name": "stdout",
     "output_type": "stream",
     "text": [
      "Coefficients:  [ 1.24507847e-12  1.03295415e+01  7.13574346e+00  4.94066310e+00\n",
      " -3.47604692e+00  3.44073120e+00  1.42164053e+00 -2.04556214e+00\n",
      "  2.31155710e+01 -3.35500490e+00 -1.29301868e+01 -4.06698095e+00\n",
      " -1.67098479e+00  9.86285194e-01 -3.00058163e+00 -7.58903021e+00\n",
      " -9.06764644e+00 -8.25836434e+00 -1.14022547e+01 -6.27337283e+00\n",
      "  1.63877719e+00 -8.29113561e+00 -1.64282065e+01 -3.01677150e+00\n",
      "  2.10659490e+00 -1.13440520e-01  9.10434303e-01 -3.61199477e+00\n",
      " -8.52768827e+00 -9.86728231e+00 -1.51117988e+00 -3.05574595e+00\n",
      " -5.15607345e+00 -6.69236872e+00 -5.59456935e+00 -6.23375289e+00\n",
      " -1.06138615e+00  1.89996982e-01  9.55998651e+00 -9.33087474e-01\n",
      " -6.68156577e+00 -7.32554997e+00 -7.43178885e+00 -6.99243709e+00\n",
      " -1.75397899e+01 -7.14245390e+00 -2.20614052e+01 -3.44614541e+01\n",
      " -4.05068684e+00  9.95867697e+00 -1.17134504e+01 -2.23699079e+01\n",
      "  4.45174379e-01 -1.71461251e+01 -5.78665007e+01 -8.52094043e+00\n",
      "  1.49263528e+01 -1.56731371e+01 -4.46091088e+01 -5.12439853e+00\n",
      " -3.43542511e+01 -2.59117283e+01  1.05400664e+01 -4.31533683e+01\n",
      " -7.03907225e+01  9.58254584e+00  3.07759689e+00  1.67294059e+01\n",
      " -3.84820425e+00 -1.05646037e+01  1.24637969e+00 -1.12934126e+00\n",
      "  1.38752744e+01  2.55669366e+01 -1.49681102e+01 -6.70456546e+00\n",
      " -2.36207064e+01  1.54492139e+00 -1.80446946e+01  5.50941405e-01\n",
      " -6.62219431e-01 -3.44523800e+00 -2.16824442e+01 -1.60913927e-01\n",
      "  6.89823908e+00 -1.41054978e+00 -1.80424647e+01 -4.74013671e+00\n",
      " -2.84797906e+01 -1.90459203e+01  8.05499839e+00 -2.73975456e+01\n",
      " -6.29847110e+01  1.66403569e+00  5.06197643e-01  8.13020845e+00\n",
      "  2.73018800e+00 -1.01599164e+01 -4.17625253e+00 -3.84547951e+00\n",
      "  9.82740642e+00  2.00921421e+01 -1.04882482e+01  1.39291281e+00\n",
      " -1.57700881e+01 -7.04315768e-01 -1.84184784e+01 -4.91508383e+00\n",
      " -1.06954656e+00 -1.18173655e+01 -1.81106366e+01  1.79259450e+00\n",
      " -2.40365560e+01 -4.02997036e+01  7.73016471e+00 -3.36741316e+00\n",
      "  1.25537915e+01 -1.74795030e+01 -3.20883629e+01  6.25532235e+00\n",
      "  1.48798404e-01  4.84184933e+00  1.47625352e+01 -4.98675632e+00\n",
      " -1.57462310e+01 -4.94135565e+01  8.24236170e+00 -3.25939122e+01\n",
      "  6.26258551e+00 -2.43264723e+00  6.54763971e-01  4.52486781e+00\n",
      " -1.63670805e+00  2.52115510e-01  2.13537420e+00 -4.40979066e+00\n",
      "  7.77408155e+00  1.89863124e+01 -6.82984281e-01 -5.70369179e+00\n",
      " -5.30894370e+00  2.01377309e+00 -2.19066535e+00  2.61009840e-01\n",
      "  7.11255712e-01 -5.19573262e-01 -1.91512130e+00  8.19711734e-03\n",
      "  7.72870385e-01  3.93972535e+00  1.97080651e+01 -1.09145982e+01\n",
      "  1.44363060e+01 -1.01472987e+01 -6.27359233e+00 -2.17534718e+00\n",
      " -6.61638169e+00  2.16231952e+00 -8.34934909e+00  2.13313918e+00\n",
      "  5.64249230e-01 -2.40654789e+00 -6.44888348e-01 -2.45763395e-01\n",
      "  1.07389635e+00]\n",
      "Intercept:  [46.31547271]\n"
     ]
    }
   ],
   "source": [
    "poly = PolynomialFeatures(degree=3)\n",
    "poly_train_x = poly.fit_transform(train_x)\n",
    "regr = linear_model.LinearRegression()\n",
    "regr.fit(poly_train_x, train_y)\n",
    "\n",
    "print ('Coefficients: ', regr.coef_[0])\n",
    "print ('Intercept: ',regr.intercept_)"
   ]
  },
  {
   "cell_type": "code",
   "execution_count": 77,
   "metadata": {},
   "outputs": [
    {
     "name": "stdout",
     "output_type": "stream",
     "text": [
      "R2-score for traning set: 0.93\n",
      "R2-score for test set: 0.88\n"
     ]
    }
   ],
   "source": [
    "train_x_poly = poly.fit_transform(train_x)\n",
    "train_y_hat = regr.predict(train_x_poly)\n",
    "\n",
    "test_x_poly = poly.fit_transform(test_x)\n",
    "test_y_hat = regr.predict(test_x_poly)\n",
    "\n",
    "\n",
    "print(\"R2-score for traning set: %.2f\" % r2_score(y_pred=train_y_hat , y_true=train_y) )\n",
    "print(\"R2-score for test set: %.2f\" % r2_score(y_pred=test_y_hat , y_true=test_y) )"
   ]
  },
  {
   "cell_type": "code",
   "execution_count": null,
   "metadata": {},
   "outputs": [],
   "source": []
  },
  {
   "cell_type": "markdown",
   "metadata": {},
   "source": [
    "#### __Model (RandomForest)__"
   ]
  },
  {
   "cell_type": "code",
   "execution_count": 74,
   "metadata": {},
   "outputs": [
    {
     "name": "stderr",
     "output_type": "stream",
     "text": [
      "/home/petec0x0/anaconda3/lib/python3.7/site-packages/ipykernel_launcher.py:2: DataConversionWarning: A column-vector y was passed when a 1d array was expected. Please change the shape of y to (n_samples,), for example using ravel().\n",
      "  \n"
     ]
    },
    {
     "name": "stdout",
     "output_type": "stream",
     "text": [
      "\n",
      "Train Score: 0.9845\n",
      "\n",
      "Test Score: 0.9195\n"
     ]
    }
   ],
   "source": [
    "randfr = RandomForestRegressor()\n",
    "randfr.fit(train_x, train_y)\n",
    "\n",
    "y_hat_train = randfr.predict(train_x)\n",
    "y_hat_test = randfr.predict(test_x)\n",
    "\n",
    "print('\\nTrain Score:', round(r2_score(y_true=train_y, y_pred=y_hat_train), 4))\n",
    "print('\\nTest Score:', round(r2_score(y_true=test_y, y_pred=y_hat_test), 4))"
   ]
  },
  {
   "cell_type": "code",
   "execution_count": 48,
   "metadata": {},
   "outputs": [
    {
     "data": {
      "image/png": "[encoded data removed]",
      "text/plain": [
       "<Figure size 576x396 with 1 Axes>"
      ]
     },
     "metadata": {},
     "output_type": "display_data"
    },
    {
     "data": {
      "text/plain": [
       "array([0.32064042, 0.07801451, 0.02127818, 0.10854832, 0.06898156,\n",
       "       0.02525992, 0.03934168, 0.33793542])"
      ]
     },
     "execution_count": 48,
     "metadata": {},
     "output_type": "execute_result"
    }
   ],
   "source": [
    "tt = randfr.feature_importances_\n",
    "\n",
    "p = list(zip(features.columns, tt))\n",
    "\n",
    "px = [i[0] for i in p]\n",
    "py = [i[1] for i in p]\n",
    "\n",
    "plt.bar(px,py)\n",
    "plt.xticks(rotation=90, fontsize=17)\n",
    "plt.show()\n",
    "randfr.feature_importances_"
   ]
  },
  {
   "cell_type": "code",
   "execution_count": null,
   "metadata": {},
   "outputs": [],
   "source": []
  }
 ],
 "metadata": {
  "kernelspec": {
   "display_name": "Python 3",
   "language": "python",
   "name": "python3"
  },
  "language_info": {
   "codemirror_mode": {
    "name": "ipython",
    "version": 3
   },
   "file_extension": ".py",
   "mimetype": "text/x-python",
   "name": "python",
   "nbconvert_exporter": "python",
   "pygments_lexer": "ipython3",
   "version": "3.7.6"
  }
 },
 "nbformat": 4,
 "nbformat_minor": 4
}
